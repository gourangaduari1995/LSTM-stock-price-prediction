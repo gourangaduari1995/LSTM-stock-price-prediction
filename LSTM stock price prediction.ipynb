{
 "cells": [
  {
   "cell_type": "code",
   "execution_count": 1,
   "metadata": {},
   "outputs": [],
   "source": [
    "import pandas as pd\n",
    "import numpy as np\n",
    "import matplotlib.pyplot as plt"
   ]
  },
  {
   "cell_type": "code",
   "execution_count": 32,
   "metadata": {},
   "outputs": [
    {
     "data": {
      "text/html": [
       "<div>\n",
       "<style scoped>\n",
       "    .dataframe tbody tr th:only-of-type {\n",
       "        vertical-align: middle;\n",
       "    }\n",
       "\n",
       "    .dataframe tbody tr th {\n",
       "        vertical-align: top;\n",
       "    }\n",
       "\n",
       "    .dataframe thead th {\n",
       "        text-align: right;\n",
       "    }\n",
       "</style>\n",
       "<table border=\"1\" class=\"dataframe\">\n",
       "  <thead>\n",
       "    <tr style=\"text-align: right;\">\n",
       "      <th></th>\n",
       "      <th>Date</th>\n",
       "      <th>Open</th>\n",
       "      <th>High</th>\n",
       "      <th>Low</th>\n",
       "      <th>Close</th>\n",
       "      <th>Volume</th>\n",
       "    </tr>\n",
       "  </thead>\n",
       "  <tbody>\n",
       "    <tr>\n",
       "      <th>0</th>\n",
       "      <td>1/3/2012</td>\n",
       "      <td>325.25</td>\n",
       "      <td>332.83</td>\n",
       "      <td>324.97</td>\n",
       "      <td>663.59</td>\n",
       "      <td>7,380,500</td>\n",
       "    </tr>\n",
       "    <tr>\n",
       "      <th>1</th>\n",
       "      <td>1/4/2012</td>\n",
       "      <td>331.27</td>\n",
       "      <td>333.87</td>\n",
       "      <td>329.08</td>\n",
       "      <td>666.45</td>\n",
       "      <td>5,749,400</td>\n",
       "    </tr>\n",
       "    <tr>\n",
       "      <th>2</th>\n",
       "      <td>1/5/2012</td>\n",
       "      <td>329.83</td>\n",
       "      <td>330.75</td>\n",
       "      <td>326.89</td>\n",
       "      <td>657.21</td>\n",
       "      <td>6,590,300</td>\n",
       "    </tr>\n",
       "    <tr>\n",
       "      <th>3</th>\n",
       "      <td>1/6/2012</td>\n",
       "      <td>328.34</td>\n",
       "      <td>328.77</td>\n",
       "      <td>323.68</td>\n",
       "      <td>648.24</td>\n",
       "      <td>5,405,900</td>\n",
       "    </tr>\n",
       "    <tr>\n",
       "      <th>4</th>\n",
       "      <td>1/9/2012</td>\n",
       "      <td>322.04</td>\n",
       "      <td>322.29</td>\n",
       "      <td>309.46</td>\n",
       "      <td>620.76</td>\n",
       "      <td>11,688,800</td>\n",
       "    </tr>\n",
       "  </tbody>\n",
       "</table>\n",
       "</div>"
      ],
      "text/plain": [
       "       Date    Open    High     Low   Close      Volume\n",
       "0  1/3/2012  325.25  332.83  324.97  663.59   7,380,500\n",
       "1  1/4/2012  331.27  333.87  329.08  666.45   5,749,400\n",
       "2  1/5/2012  329.83  330.75  326.89  657.21   6,590,300\n",
       "3  1/6/2012  328.34  328.77  323.68  648.24   5,405,900\n",
       "4  1/9/2012  322.04  322.29  309.46  620.76  11,688,800"
      ]
     },
     "execution_count": 32,
     "metadata": {},
     "output_type": "execute_result"
    }
   ],
   "source": [
    "df=pd.read_csv('Google_Stock_Price_Train.csv')\n",
    "df.head()"
   ]
  },
  {
   "cell_type": "code",
   "execution_count": 40,
   "metadata": {},
   "outputs": [],
   "source": [
    "data= df.iloc[:, 1:2].values"
   ]
  },
  {
   "cell_type": "code",
   "execution_count": 41,
   "metadata": {},
   "outputs": [
    {
     "data": {
      "text/plain": [
       "array([[325.25],\n",
       "       [331.27],\n",
       "       [329.83],\n",
       "       ...,\n",
       "       [793.7 ],\n",
       "       [783.33],\n",
       "       [782.75]])"
      ]
     },
     "execution_count": 41,
     "metadata": {},
     "output_type": "execute_result"
    }
   ],
   "source": [
    "data"
   ]
  },
  {
   "cell_type": "code",
   "execution_count": 46,
   "metadata": {},
   "outputs": [
    {
     "data": {
      "text/plain": [
       "[<matplotlib.lines.Line2D at 0x1f57f17cc18>]"
      ]
     },
     "execution_count": 46,
     "metadata": {},
     "output_type": "execute_result"
    },
    {
     "data": {
      "image/png": "[encoded data removed]",
      "text/plain": [
       "<Figure size 432x288 with 1 Axes>"
      ]
     },
     "metadata": {},
     "output_type": "display_data"
    }
   ],
   "source": [
    "plt.plot(data)"
   ]
  },
  {
   "cell_type": "code",
   "execution_count": 77,
   "metadata": {},
   "outputs": [],
   "source": [
    "# Feature Scaling\n",
    "from sklearn.preprocessing import MinMaxScaler\n",
    "sc = MinMaxScaler(feature_range = (0, 1))\n",
    "training_scaled = sc.fit_transform(data)"
   ]
  },
  {
   "cell_type": "code",
   "execution_count": 78,
   "metadata": {},
   "outputs": [
    {
     "data": {
      "text/plain": [
       "array([[0.08581368],\n",
       "       [0.09701243],\n",
       "       [0.09433366],\n",
       "       ...,\n",
       "       [0.95725128],\n",
       "       [0.93796041],\n",
       "       [0.93688146]])"
      ]
     },
     "execution_count": 78,
     "metadata": {},
     "output_type": "execute_result"
    }
   ],
   "source": [
    "training_scaled"
   ]
  },
  {
   "cell_type": "code",
   "execution_count": 79,
   "metadata": {},
   "outputs": [],
   "source": [
    "training_size=int(len(data)*0.70)\n",
    "test_size=len(data)-training_size\n",
    "training_data,test_data=data[0:training_size,:],data[training_size:len(data),:1]"
   ]
  },
  {
   "cell_type": "code",
   "execution_count": 80,
   "metadata": {},
   "outputs": [],
   "source": [
    "import numpy\n",
    "# convert an array of values into a dataset matrix\n",
    "def create_dataset(dataset, time_step=1):\n",
    "\tdataX, dataY = [], []\n",
    "\tfor i in range(len(dataset)-time_step-1):\n",
    "\t\ta = dataset[i:(i+time_step), 0]   ###i=0, 0,1,2,3-----99   100 \n",
    "\t\tdataX.append(a)\n",
    "\t\tdataY.append(dataset[i + time_step, 0])\n",
    "\treturn numpy.array(dataX), numpy.array(dataY)"
   ]
  },
  {
   "cell_type": "code",
   "execution_count": 81,
   "metadata": {},
   "outputs": [],
   "source": [
    "# reshape into X=t,t+1,t+2,t+3 and Y=t+4\n",
    "time_step = 100\n",
    "X_train, y_train = create_dataset(training_data, time_step)\n",
    "X_test, ytest = create_dataset(test_data, time_step)"
   ]
  },
  {
   "cell_type": "code",
   "execution_count": 82,
   "metadata": {},
   "outputs": [
    {
     "name": "stdout",
     "output_type": "stream",
     "text": [
      "(779, 100)\n",
      "(779,)\n"
     ]
    },
    {
     "data": {
      "text/plain": [
       "(None, None)"
      ]
     },
     "execution_count": 82,
     "metadata": {},
     "output_type": "execute_result"
    }
   ],
   "source": [
    "print(X_train.shape), print(y_train.shape)"
   ]
  },
  {
   "cell_type": "code",
   "execution_count": 83,
   "metadata": {},
   "outputs": [
    {
     "name": "stdout",
     "output_type": "stream",
     "text": [
      "(277, 100)\n",
      "(277,)\n"
     ]
    },
    {
     "data": {
      "text/plain": [
       "(None, None)"
      ]
     },
     "execution_count": 83,
     "metadata": {},
     "output_type": "execute_result"
    }
   ],
   "source": [
    "print(X_test.shape), print(ytest.shape)"
   ]
  },
  {
   "cell_type": "code",
   "execution_count": 84,
   "metadata": {},
   "outputs": [],
   "source": [
    "# reshape input to be [samples, time steps, features] which is required for LSTM\n",
    "X_train =X_train.reshape(X_train.shape[0],X_train.shape[1] , 1)\n",
    "X_test = X_test.reshape(X_test.shape[0],X_test.shape[1] , 1)"
   ]
  },
  {
   "cell_type": "code",
   "execution_count": 85,
   "metadata": {},
   "outputs": [],
   "source": [
    "from tensorflow.keras.models import Sequential\n",
    "from tensorflow.keras.layers import Dense\n",
    "from tensorflow.keras.layers import LSTM"
   ]
  },
  {
   "cell_type": "code",
   "execution_count": 86,
   "metadata": {},
   "outputs": [],
   "source": [
    "model=Sequential()\n",
    "model.add(LSTM(50,return_sequences=True,input_shape=(60,1)))\n",
    "model.add(LSTM(50,return_sequences=True))\n",
    "model.add(LSTM(50))\n",
    "model.add(Dense(1))\n",
    "model.compile(loss='mse',optimizer='adam')"
   ]
  },
  {
   "cell_type": "code",
   "execution_count": 87,
   "metadata": {},
   "outputs": [
    {
     "name": "stdout",
     "output_type": "stream",
     "text": [
      "Model: \"sequential_2\"\n",
      "_________________________________________________________________\n",
      "Layer (type)                 Output Shape              Param #   \n",
      "=================================================================\n",
      "lstm_6 (LSTM)                (None, 60, 50)            10400     \n",
      "_________________________________________________________________\n",
      "lstm_7 (LSTM)                (None, 60, 50)            20200     \n",
      "_________________________________________________________________\n",
      "lstm_8 (LSTM)                (None, 50)                20200     \n",
      "_________________________________________________________________\n",
      "dense_2 (Dense)              (None, 1)                 51        \n",
      "=================================================================\n",
      "Total params: 50,851\n",
      "Trainable params: 50,851\n",
      "Non-trainable params: 0\n",
      "_________________________________________________________________\n"
     ]
    }
   ],
   "source": [
    "model.summary()"
   ]
  },
  {
   "cell_type": "code",
   "execution_count": 88,
   "metadata": {},
   "outputs": [
    {
     "name": "stdout",
     "output_type": "stream",
     "text": [
      "Epoch 1/100\n",
      "WARNING:tensorflow:Model was constructed with shape (None, 60, 1) for input KerasTensor(type_spec=TensorSpec(shape=(None, 60, 1), dtype=tf.float32, name='lstm_6_input'), name='lstm_6_input', description=\"created by layer 'lstm_6_input'\"), but it was called on an input with incompatible shape (None, 100, 1).\n",
      "WARNING:tensorflow:Model was constructed with shape (None, 60, 1) for input KerasTensor(type_spec=TensorSpec(shape=(None, 60, 1), dtype=tf.float32, name='lstm_6_input'), name='lstm_6_input', description=\"created by layer 'lstm_6_input'\"), but it was called on an input with incompatible shape (None, 100, 1).\n",
      "13/13 [==============================] - ETA: 0s - loss: 234390.9688 ETA: 0s - loss: 236WARNING:tensorflow:Model was constructed with shape (None, 60, 1) for input KerasTensor(type_spec=TensorSpec(shape=(None, 60, 1), dtype=tf.float32, name='lstm_6_input'), name='lstm_6_input', description=\"created by layer 'lstm_6_input'\"), but it was called on an input with incompatible shape (None, 100, 1).\n",
      "13/13 [==============================] - 11s 356ms/step - loss: 234112.2701 - val_loss: 549117.4375\n",
      "Epoch 2/100\n",
      "13/13 [==============================] - 3s 232ms/step - loss: 227756.9855 - val_loss: 545277.9375\n",
      "Epoch 3/100\n",
      "13/13 [==============================] - 3s 254ms/step - loss: 227831.1551 - val_loss: 542352.9375\n",
      "Epoch 4/100\n",
      "13/13 [==============================] - 3s 261ms/step - loss: 221262.6551 - val_loss: 540515.3750\n",
      "Epoch 5/100\n",
      "13/13 [==============================] - 3s 246ms/step - loss: 221928.5569 - val_loss: 539086.8125\n",
      "Epoch 6/100\n",
      "13/13 [==============================] - 3s 240ms/step - loss: 222271.3984 - val_loss: 537616.3750\n",
      "Epoch 7/100\n",
      "13/13 [==============================] - 3s 253ms/step - loss: 218333.7935 - val_loss: 536360.2500\n",
      "Epoch 8/100\n",
      "13/13 [==============================] - 3s 248ms/step - loss: 220651.7366 - val_loss: 535203.6250\n",
      "Epoch 9/100\n",
      "13/13 [==============================] - 3s 240ms/step - loss: 220223.3460 - val_loss: 534087.1875\n",
      "Epoch 10/100\n",
      "13/13 [==============================] - 3s 236ms/step - loss: 220073.7355 - val_loss: 532998.9375\n",
      "Epoch 11/100\n",
      "13/13 [==============================] - 3s 245ms/step - loss: 213971.7879 - val_loss: 531930.4375\n",
      "Epoch 12/100\n",
      "13/13 [==============================] - 3s 252ms/step - loss: 217551.7980 - val_loss: 530877.5000\n",
      "Epoch 13/100\n",
      "13/13 [==============================] - 3s 257ms/step - loss: 218778.5056 - val_loss: 529835.2500\n",
      "Epoch 14/100\n",
      "13/13 [==============================] - 3s 240ms/step - loss: 212701.9821 - val_loss: 528805.6875\n",
      "Epoch 15/100\n",
      "13/13 [==============================] - 3s 239ms/step - loss: 219442.8304 - val_loss: 527778.3125\n",
      "Epoch 16/100\n",
      "13/13 [==============================] - 3s 246ms/step - loss: 214254.2500 - val_loss: 526763.9375\n",
      "Epoch 17/100\n",
      "13/13 [==============================] - 3s 252ms/step - loss: 217238.0904 - val_loss: 525753.3125\n",
      "Epoch 18/100\n",
      "13/13 [==============================] - 3s 242ms/step - loss: 211515.7701 - val_loss: 524753.1250\n",
      "Epoch 19/100\n",
      "13/13 [==============================] - 3s 240ms/step - loss: 211010.0636 - val_loss: 523751.9688\n",
      "Epoch 20/100\n",
      "13/13 [==============================] - 3s 234ms/step - loss: 210613.1228 - val_loss: 522754.7812\n",
      "Epoch 21/100\n",
      "13/13 [==============================] - 3s 241ms/step - loss: 213725.8304 - val_loss: 521770.3438\n",
      "Epoch 22/100\n",
      "13/13 [==============================] - 3s 235ms/step - loss: 208792.9397 - val_loss: 520788.1562\n",
      "Epoch 23/100\n",
      "13/13 [==============================] - 3s 251ms/step - loss: 211318.7935 - val_loss: 519804.9375\n",
      "Epoch 24/100\n",
      "13/13 [==============================] - 3s 239ms/step - loss: 208397.9230 - val_loss: 518824.5000\n",
      "Epoch 25/100\n",
      "13/13 [==============================] - 3s 238ms/step - loss: 211633.4844 - val_loss: 517846.0000\n",
      "Epoch 26/100\n",
      "13/13 [==============================] - 3s 239ms/step - loss: 210334.7489 - val_loss: 516875.2188\n",
      "Epoch 27/100\n",
      "13/13 [==============================] - 3s 234ms/step - loss: 208968.7600 - val_loss: 515913.5938\n",
      "Epoch 28/100\n",
      "13/13 [==============================] - 3s 267ms/step - loss: 206337.0100 - val_loss: 514951.9688\n",
      "Epoch 29/100\n",
      "13/13 [==============================] - 3s 234ms/step - loss: 206442.7879 - val_loss: 513995.0312\n",
      "Epoch 30/100\n",
      "13/13 [==============================] - 3s 234ms/step - loss: 205493.2344 - val_loss: 513037.7500\n",
      "Epoch 31/100\n",
      "13/13 [==============================] - 3s 231ms/step - loss: 208365.5703 - val_loss: 512079.4688\n",
      "Epoch 32/100\n",
      "13/13 [==============================] - 3s 239ms/step - loss: 204552.4799 - val_loss: 511125.1562\n",
      "Epoch 33/100\n",
      "13/13 [==============================] - 3s 257ms/step - loss: 206290.5379 - val_loss: 510169.3125\n",
      "Epoch 34/100\n",
      "13/13 [==============================] - 3s 232ms/step - loss: 201125.7612 - val_loss: 509218.3750\n",
      "Epoch 35/100\n",
      "13/13 [==============================] - 3s 243ms/step - loss: 203916.8058 - val_loss: 508269.2188\n",
      "Epoch 36/100\n",
      "13/13 [==============================] - 3s 235ms/step - loss: 202794.1406 - val_loss: 507330.2500\n",
      "Epoch 37/100\n",
      "13/13 [==============================] - 3s 236ms/step - loss: 200970.3560 - val_loss: 506390.0000\n",
      "Epoch 38/100\n",
      "13/13 [==============================] - 3s 260ms/step - loss: 201504.1105 - val_loss: 505449.3438\n",
      "Epoch 39/100\n",
      "13/13 [==============================] - 3s 239ms/step - loss: 202073.1964 - val_loss: 504512.5625\n",
      "Epoch 40/100\n",
      "13/13 [==============================] - 3s 232ms/step - loss: 202520.4643 - val_loss: 503578.7500\n",
      "Epoch 41/100\n",
      "13/13 [==============================] - 3s 240ms/step - loss: 197835.7522 - val_loss: 502650.3438\n",
      "Epoch 42/100\n",
      "13/13 [==============================] - 3s 244ms/step - loss: 200982.5915 - val_loss: 501725.8125\n",
      "Epoch 43/100\n",
      "13/13 [==============================] - 3s 248ms/step - loss: 200957.3739 - val_loss: 500800.4062\n",
      "Epoch 44/100\n",
      "13/13 [==============================] - 3s 244ms/step - loss: 196529.2143 - val_loss: 499875.4062\n",
      "Epoch 45/100\n",
      "13/13 [==============================] - 3s 245ms/step - loss: 195772.6350 - val_loss: 498946.8438\n",
      "Epoch 46/100\n",
      "13/13 [==============================] - 3s 234ms/step - loss: 199922.7042 - val_loss: 498017.3750\n",
      "Epoch 47/100\n",
      "13/13 [==============================] - 3s 247ms/step - loss: 198936.8650 - val_loss: 497096.1562\n",
      "Epoch 48/100\n",
      "13/13 [==============================] - 3s 249ms/step - loss: 195476.0871 - val_loss: 496180.2188\n",
      "Epoch 49/100\n",
      "13/13 [==============================] - 3s 245ms/step - loss: 196265.9632 - val_loss: 495257.9375\n",
      "Epoch 50/100\n",
      "13/13 [==============================] - 3s 244ms/step - loss: 194227.4643 - val_loss: 494337.0938\n",
      "Epoch 51/100\n",
      "13/13 [==============================] - 3s 245ms/step - loss: 191283.1272 - val_loss: 493419.7812\n",
      "Epoch 52/100\n",
      "13/13 [==============================] - 3s 244ms/step - loss: 192658.4621 - val_loss: 492507.2188\n",
      "Epoch 53/100\n",
      "13/13 [==============================] - 3s 253ms/step - loss: 192251.1730 - val_loss: 491600.7500\n",
      "Epoch 54/100\n",
      "13/13 [==============================] - 3s 252ms/step - loss: 191264.8951 - val_loss: 490691.5938\n",
      "Epoch 55/100\n",
      "13/13 [==============================] - 3s 238ms/step - loss: 189168.4141 - val_loss: 489781.5000\n",
      "Epoch 56/100\n",
      "13/13 [==============================] - 3s 234ms/step - loss: 193480.0190 - val_loss: 488875.9062\n",
      "Epoch 57/100\n",
      "13/13 [==============================] - 3s 237ms/step - loss: 192017.1060 - val_loss: 487977.1250\n",
      "Epoch 58/100\n",
      "13/13 [==============================] - 3s 246ms/step - loss: 190637.0402 - val_loss: 487078.0000\n",
      "Epoch 59/100\n",
      "13/13 [==============================] - 3s 251ms/step - loss: 190565.0402 - val_loss: 486177.0312\n",
      "Epoch 60/100\n",
      "13/13 [==============================] - 3s 244ms/step - loss: 191267.7098 - val_loss: 485276.8125\n",
      "Epoch 61/100\n",
      "13/13 [==============================] - 3s 246ms/step - loss: 188167.8516 - val_loss: 484379.3438\n",
      "Epoch 62/100\n",
      "13/13 [==============================] - 3s 246ms/step - loss: 191882.5737 - val_loss: 483475.6875\n",
      "Epoch 63/100\n",
      "13/13 [==============================] - 3s 253ms/step - loss: 191187.2801 - val_loss: 482579.6562\n",
      "Epoch 64/100\n",
      "13/13 [==============================] - 3s 245ms/step - loss: 188379.3170 - val_loss: 481695.5000\n",
      "Epoch 65/100\n"
     ]
    },
    {
     "name": "stdout",
     "output_type": "stream",
     "text": [
      "13/13 [==============================] - 3s 234ms/step - loss: 187341.1362 - val_loss: 480803.5625\n",
      "Epoch 66/100\n",
      "13/13 [==============================] - 3s 235ms/step - loss: 182966.7768 - val_loss: 479912.4688\n",
      "Epoch 67/100\n",
      "13/13 [==============================] - 3s 239ms/step - loss: 185955.6730 - val_loss: 479020.0312\n",
      "Epoch 68/100\n",
      "13/13 [==============================] - 3s 248ms/step - loss: 182237.2254 - val_loss: 478135.2188\n",
      "Epoch 69/100\n",
      "13/13 [==============================] - 3s 240ms/step - loss: 183511.0725 - val_loss: 477247.7500\n",
      "Epoch 70/100\n",
      "13/13 [==============================] - 3s 234ms/step - loss: 183751.0804 - val_loss: 476362.0938\n",
      "Epoch 71/100\n",
      "13/13 [==============================] - 3s 234ms/step - loss: 182740.5960 - val_loss: 475480.5312\n",
      "Epoch 72/100\n",
      "13/13 [==============================] - 3s 239ms/step - loss: 182153.9185 - val_loss: 474600.7500\n",
      "Epoch 73/100\n",
      "13/13 [==============================] - 3s 235ms/step - loss: 180192.5647 - val_loss: 473721.9688\n",
      "Epoch 74/100\n",
      "13/13 [==============================] - 3s 249ms/step - loss: 181268.1295 - val_loss: 472846.2500\n",
      "Epoch 75/100\n",
      "13/13 [==============================] - 3s 235ms/step - loss: 181395.1484 - val_loss: 471971.7812\n",
      "Epoch 76/100\n",
      "13/13 [==============================] - 3s 244ms/step - loss: 175951.6038 - val_loss: 471103.4375\n",
      "Epoch 77/100\n",
      "13/13 [==============================] - 3s 239ms/step - loss: 179241.1808 - val_loss: 470226.5625\n",
      "Epoch 78/100\n",
      "13/13 [==============================] - 3s 241ms/step - loss: 180067.8013 - val_loss: 469355.6875\n",
      "Epoch 79/100\n",
      "13/13 [==============================] - 3s 269ms/step - loss: 178041.5915 - val_loss: 468482.4688\n",
      "Epoch 80/100\n",
      "13/13 [==============================] - 3s 269ms/step - loss: 178677.9810 - val_loss: 467611.9688\n",
      "Epoch 81/100\n",
      "13/13 [==============================] - 3s 261ms/step - loss: 178092.8371 - val_loss: 466743.0938\n",
      "Epoch 82/100\n",
      "13/13 [==============================] - 3s 234ms/step - loss: 178341.6004 - val_loss: 465876.5625\n",
      "Epoch 83/100\n",
      "13/13 [==============================] - 3s 242ms/step - loss: 176278.0692 - val_loss: 465010.9375\n",
      "Epoch 84/100\n",
      "13/13 [==============================] - 31s 3s/step - loss: 178735.2991 - val_loss: 464147.2812\n",
      "Epoch 85/100\n",
      "13/13 [==============================] - 3s 211ms/step - loss: 179126.3839 - val_loss: 463281.9062\n",
      "Epoch 86/100\n",
      "13/13 [==============================] - 2s 182ms/step - loss: 174881.6540 - val_loss: 462422.3125\n",
      "Epoch 87/100\n",
      "13/13 [==============================] - 2s 180ms/step - loss: 172067.1161 - val_loss: 461567.4688\n",
      "Epoch 88/100\n",
      "13/13 [==============================] - 3s 231ms/step - loss: 171619.9688 - val_loss: 460711.7812\n",
      "Epoch 89/100\n",
      "13/13 [==============================] - 3s 231ms/step - loss: 173246.7321 - val_loss: 459855.5312\n",
      "Epoch 90/100\n",
      "13/13 [==============================] - 3s 213ms/step - loss: 173271.8371 - val_loss: 459002.0938\n",
      "Epoch 91/100\n",
      "13/13 [==============================] - -3s -273299us/step - loss: 174104.9196 - val_loss: 458150.5000\n",
      "Epoch 92/100\n",
      "13/13 [==============================] - 2s 129ms/step - loss: 172879.3013 - val_loss: 457297.0938\n",
      "Epoch 93/100\n",
      "13/13 [==============================] - 2s 117ms/step - loss: 171059.6607 - val_loss: 456449.7188\n",
      "Epoch 94/100\n",
      "13/13 [==============================] - 1s 115ms/step - loss: 174084.2734 - val_loss: 455600.3750\n",
      "Epoch 95/100\n",
      "13/13 [==============================] - 2s 128ms/step - loss: 169045.4810 - val_loss: 454754.7500\n",
      "Epoch 96/100\n",
      "13/13 [==============================] - 2s 123ms/step - loss: 168953.0681 - val_loss: 453911.0938\n",
      "Epoch 97/100\n",
      "13/13 [==============================] - 2s 118ms/step - loss: 170070.6094 - val_loss: 453068.3125\n",
      "Epoch 98/100\n",
      "13/13 [==============================] - 2s 141ms/step - loss: 169276.7433 - val_loss: 452221.1875\n",
      "Epoch 99/100\n",
      "13/13 [==============================] - 2s 152ms/step - loss: 165559.5357 - val_loss: 451377.5000\n",
      "Epoch 100/100\n",
      "13/13 [==============================] - 1s 112ms/step - loss: 168236.5190 - val_loss: 450532.5625\n"
     ]
    },
    {
     "data": {
      "text/plain": [
       "<tensorflow.python.keras.callbacks.History at 0x1f552c6b7f0>"
      ]
     },
     "execution_count": 88,
     "metadata": {},
     "output_type": "execute_result"
    }
   ],
   "source": [
    "model.fit(X_train,y_train,validation_data=(X_test,ytest),epochs=100,batch_size=64,verbose=1)"
   ]
  },
  {
   "cell_type": "code",
   "execution_count": 90,
   "metadata": {},
   "outputs": [],
   "source": [
    "### Lets Do the prediction and check performance metrics\n",
    "train_predict=model.predict(X_train)\n",
    "test_predict=model.predict(X_test)"
   ]
  },
  {
   "cell_type": "code",
   "execution_count": 92,
   "metadata": {},
   "outputs": [],
   "source": [
    "##Transformback to original form\n",
    "train_predict=sc.inverse_transform(train_predict)\n",
    "test_predict=sc.inverse_transform(test_predict)"
   ]
  },
  {
   "cell_type": "code",
   "execution_count": 93,
   "metadata": {},
   "outputs": [
    {
     "data": {
      "text/plain": [
       "39729.22219157214"
      ]
     },
     "execution_count": 93,
     "metadata": {},
     "output_type": "execute_result"
    }
   ],
   "source": [
    "### Calculate RMSE performance metrics\n",
    "import math\n",
    "from sklearn.metrics import mean_squared_error\n",
    "math.sqrt(mean_squared_error(y_train,train_predict))"
   ]
  },
  {
   "cell_type": "code",
   "execution_count": 94,
   "metadata": {},
   "outputs": [
    {
     "data": {
      "text/plain": [
       "39457.620304002325"
      ]
     },
     "execution_count": 94,
     "metadata": {},
     "output_type": "execute_result"
    }
   ],
   "source": [
    "### Test Data RMSE\n",
    "math.sqrt(mean_squared_error(ytest,test_predict))"
   ]
  },
  {
   "cell_type": "code",
   "execution_count": 115,
   "metadata": {},
   "outputs": [
    {
     "data": {
      "image/png": "[encoded data removed]",
      "text/plain": [
       "<Figure size 432x288 with 1 Axes>"
      ]
     },
     "metadata": {},
     "output_type": "display_data"
    }
   ],
   "source": [
    "### Plotting \n",
    "# shift train predictions for plotting\n",
    "look_back=100\n",
    "trainPredictPlot = numpy.empty_like(data)\n",
    "trainPredictPlot[:, :] = np.nan\n",
    "trainPredictPlot[look_back:len(train_predict)+look_back, :] = train_predict\n",
    "# shift test predictions for plotting\n",
    "testPredictPlot = numpy.empty_like(data)\n",
    "testPredictPlot[:, :] = numpy.nan\n",
    "testPredictPlot[len(train_predict)+(look_back*2)+1:len(data)-1, :] = test_predict\n",
    "# plot baseline and predictions\n",
    "plt.plot(sc.inverse_transform(data))\n",
    "plt.plot(trainPredictPlot)\n",
    "plt.plot(testPredictPlot)\n",
    "plt.show()"
   ]
  },
  {
   "cell_type": "code",
   "execution_count": 116,
   "metadata": {},
   "outputs": [
    {
     "data": {
      "text/plain": [
       "(1, 37)"
      ]
     },
     "execution_count": 116,
     "metadata": {},
     "output_type": "execute_result"
    }
   ],
   "source": [
    "x_input=test_data[341:].reshape(1,-1)\n",
    "x_input.shape"
   ]
  },
  {
   "cell_type": "code",
   "execution_count": 117,
   "metadata": {},
   "outputs": [],
   "source": [
    "temp_input=list(x_input)\n",
    "temp_input=temp_input[0].tolist()"
   ]
  },
  {
   "cell_type": "code",
   "execution_count": 118,
   "metadata": {},
   "outputs": [
    {
     "name": "stdout",
     "output_type": "stream",
     "text": [
      "[74.26732]\n",
      "38\n",
      "[74.26732]\n",
      "39\n",
      "[74.26732]\n",
      "40\n",
      "[74.26732]\n",
      "41\n",
      "[74.26732]\n",
      "42\n",
      "[74.26732]\n",
      "43\n",
      "[74.26732]\n",
      "44\n",
      "[74.26732]\n",
      "45\n",
      "[74.26732]\n",
      "46\n",
      "[74.26732]\n",
      "47\n",
      "[74.26732]\n",
      "48\n",
      "[74.26732]\n",
      "49\n",
      "[74.26732]\n",
      "50\n",
      "[74.26732]\n",
      "51\n",
      "[74.26732]\n",
      "52\n",
      "[74.26732]\n",
      "53\n",
      "[74.26732]\n",
      "54\n",
      "[74.26732]\n",
      "55\n",
      "[74.26732]\n",
      "56\n",
      "[74.26732]\n",
      "57\n",
      "[74.26732]\n",
      "58\n",
      "[74.26732]\n",
      "59\n",
      "[74.26732]\n",
      "60\n",
      "[74.26732]\n",
      "61\n",
      "[74.26732]\n",
      "62\n",
      "[74.26732]\n",
      "63\n",
      "[74.26732]\n",
      "64\n",
      "[74.26732]\n",
      "65\n",
      "[74.26732]\n",
      "66\n",
      "[74.26732]\n",
      "67\n",
      "[[74.26731872558594], [74.26731872558594], [74.26731872558594], [74.26731872558594], [74.26731872558594], [74.26731872558594], [74.26731872558594], [74.26731872558594], [74.26731872558594], [74.26731872558594], [74.26731872558594], [74.26731872558594], [74.26731872558594], [74.26731872558594], [74.26731872558594], [74.26731872558594], [74.26731872558594], [74.26731872558594], [74.26731872558594], [74.26731872558594], [74.26731872558594], [74.26731872558594], [74.26731872558594], [74.26731872558594], [74.26731872558594], [74.26731872558594], [74.26731872558594], [74.26731872558594], [74.26731872558594], [74.26731872558594]]\n"
     ]
    }
   ],
   "source": [
    "# demonstrate prediction for next 10 days\n",
    "from numpy import array\n",
    "\n",
    "lst_output=[]\n",
    "n_steps=37\n",
    "i=0\n",
    "while(i<30):\n",
    "    \n",
    "    if(len(temp_input)>100):\n",
    "        #print(temp_input)\n",
    "        x_input=np.array(temp_input[1:])\n",
    "        print(\"{} day input {}\".format(i,x_input))\n",
    "        x_input=x_input.reshape(1,-1)\n",
    "        x_input = x_input.reshape((1, n_steps, 1))\n",
    "        #print(x_input)\n",
    "        yhat = model.predict(x_input, verbose=0)\n",
    "        print(\"{} day output {}\".format(i,yhat))\n",
    "        temp_input.extend(yhat[0].tolist())\n",
    "        temp_input=temp_input[1:]\n",
    "        #print(temp_input)\n",
    "        lst_output.extend(yhat.tolist())\n",
    "        i=i+1\n",
    "    else:\n",
    "        x_input = x_input.reshape((1, n_steps,1))\n",
    "        yhat = model.predict(x_input, verbose=0)\n",
    "        print(yhat[0])\n",
    "        temp_input.extend(yhat[0].tolist())\n",
    "        print(len(temp_input))\n",
    "        lst_output.extend(yhat.tolist())\n",
    "        i=i+1\n",
    "    \n",
    "\n",
    "print(lst_output)"
   ]
  },
  {
   "cell_type": "code",
   "execution_count": 119,
   "metadata": {},
   "outputs": [],
   "source": [
    "day_new=np.arange(1,38)\n",
    "day_pred=np.arange(38,78)"
   ]
  },
  {
   "cell_type": "code",
   "execution_count": 110,
   "metadata": {},
   "outputs": [
    {
     "data": {
      "text/plain": [
       "1258"
      ]
     },
     "execution_count": 110,
     "metadata": {},
     "output_type": "execute_result"
    }
   ],
   "source": [
    "len(data)"
   ]
  },
  {
   "cell_type": "code",
   "execution_count": 122,
   "metadata": {},
   "outputs": [
    {
     "data": {
      "text/plain": [
       "[<matplotlib.lines.Line2D at 0x1f559d148d0>]"
      ]
     },
     "execution_count": 122,
     "metadata": {},
     "output_type": "execute_result"
    },
    {
     "data": {
      "image/png": "[encoded data removed]",
      "text/plain": [
       "<Figure size 432x288 with 1 Axes>"
      ]
     },
     "metadata": {},
     "output_type": "display_data"
    }
   ],
   "source": [
    "plt.plot(day_new,sc.inverse_transform(data[1221:]))"
   ]
  },
  {
   "cell_type": "code",
   "execution_count": null,
   "metadata": {},
   "outputs": [],
   "source": []
  }
 ],
 "metadata": {
  "kernelspec": {
   "display_name": "Python 3",
   "language": "python",
   "name": "python3"
  },
  "language_info": {
   "codemirror_mode": {
    "name": "ipython",
    "version": 3
   },
   "file_extension": ".py",
   "mimetype": "text/x-python",
   "name": "python",
   "nbconvert_exporter": "python",
   "pygments_lexer": "ipython3",
   "version": "3.6.5"
  }
 },
 "nbformat": 4,
 "nbformat_minor": 2
}
